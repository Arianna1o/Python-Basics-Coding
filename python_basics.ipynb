{
 "cells": [
  {
   "cell_type": "markdown",
   "metadata": {},
   "source": [
    "### python basics\n"
   ]
  },
  {
   "cell_type": "markdown",
   "metadata": {},
   "source": [
    "strings\n",
    "\n"
   ]
  },
  {
   "cell_type": "code",
   "execution_count": 1,
   "metadata": {},
   "outputs": [
    {
     "name": "stdout",
     "output_type": "stream",
     "text": [
      "Alanna Naomi Combs\n"
     ]
    }
   ],
   "source": [
    "#All strings are in quotes\n",
    "name = 'Alanna Naomi Combs'\n",
    "print(name)\n",
    "\n"
   ]
  },
  {
   "cell_type": "code",
   "execution_count": 4,
   "metadata": {},
   "outputs": [
    {
     "name": "stdout",
     "output_type": "stream",
     "text": [
      "5\n"
     ]
    }
   ],
   "source": [
    "age = 5\n",
    "print(age)"
   ]
  },
  {
   "cell_type": "code",
   "execution_count": 13,
   "metadata": {},
   "outputs": [
    {
     "name": "stdout",
     "output_type": "stream",
     "text": [
      "15\n",
      "in 10 years, you will be 25 years old\n"
     ]
    }
   ],
   "source": [
    "age = input('what is your age')\n",
    "print(age)\n",
    "value = int(age) + 10\n",
    "print('in 10 years, you will be '  +  str(value) + ' years old')"
   ]
  },
  {
   "cell_type": "code",
   "execution_count": 3,
   "metadata": {},
   "outputs": [
    {
     "name": "stdout",
     "output_type": "stream",
     "text": [
      "Alanna Combs\n",
      "Alanna\n",
      " Combs\n",
      "annalA\n"
     ]
    }
   ],
   "source": [
    "#using full name, which was inputed, to manipulate\n",
    "name = input('what is your name?')\n",
    "print (name)\n",
    "#indexing for first name of inputed value\n",
    "first_name = name[0:6]\n",
    "#indexing for last name of inputed value\n",
    "last_name = name[6:12]\n",
    "print(first_name)\n",
    "print(last_name)\n",
    "#using indexing to have inputed value printed backwards\n",
    "backwards_first_name = first_name[::-1]\n",
    "print(backwards_first_name)\n"
   ]
  },
  {
   "cell_type": "code",
   "execution_count": 25,
   "metadata": {},
   "outputs": [
    {
     "name": "stdout",
     "output_type": "stream",
     "text": [
      "when you divide the number by 2, you get 5.0\n"
     ]
    }
   ],
   "source": [
    "#dividing inputed numbers\n",
    "number = input('pick a number')\n",
    "value_1 = int(number)/2\n",
    "print('when you divide the number by 2, you get ' +  str(value_1))"
   ]
  },
  {
   "cell_type": "code",
   "execution_count": 1,
   "metadata": {},
   "outputs": [
    {
     "name": "stdout",
     "output_type": "stream",
     "text": [
      "Wehavetoeat,exercise,work,laugh,love,andbehappy\n",
      "['We have to eat', 'exercise', 'work', 'laugh', 'love', 'and be happy']\n"
     ]
    }
   ],
   "source": [
    "#using replace function in a string\n",
    "sentence = ' We have to eat, exercise, work, laugh, love, and be happy '\n",
    "print(sentence.replace(\" \", \"\"))\n",
    "print(sentence.split(\", \"))\n",
    "\n",
    "\n",
    "\n"
   ]
  },
  {
   "cell_type": "markdown",
   "metadata": {},
   "source": []
  }
 ],
 "metadata": {
  "interpreter": {
   "hash": "b2c460961b8a1695916dc2ddb4e17d781ea9a5fd0c27d3b5ab6c40010db660a0"
  },
  "kernelspec": {
   "display_name": "Python 3.8.8 64-bit",
   "language": "python",
   "name": "python3"
  },
  "language_info": {
   "codemirror_mode": {
    "name": "ipython",
    "version": 3
   },
   "file_extension": ".py",
   "mimetype": "text/x-python",
   "name": "python",
   "nbconvert_exporter": "python",
   "pygments_lexer": "ipython3",
   "version": "3.8.8"
  },
  "orig_nbformat": 4
 },
 "nbformat": 4,
 "nbformat_minor": 2
}
